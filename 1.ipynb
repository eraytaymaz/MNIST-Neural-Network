{
 "cells": [
  {
   "cell_type": "code",
   "execution_count": 92,
   "id": "1f634c2f",
   "metadata": {},
   "outputs": [],
   "source": [
    "import numpy as np\n",
    "import pandas as pd\n",
    "import seaborn as sn\n",
    "import tensorflow as tf\n",
    "from tensorflow import keras\n",
    "from random import randrange\n",
    "from matplotlib import pyplot as plt"
   ]
  },
  {
   "cell_type": "code",
   "execution_count": 30,
   "id": "dc42fd1a",
   "metadata": {},
   "outputs": [],
   "source": [
    "(x_train, y_train), (x_test, y_test) = keras.datasets.mnist.load_data()"
   ]
  },
  {
   "cell_type": "code",
   "execution_count": 31,
   "id": "49603765",
   "metadata": {},
   "outputs": [],
   "source": [
    "x_train = x_train / 255.\n",
    "x_test = x_test / 255."
   ]
  },
  {
   "cell_type": "code",
   "execution_count": 32,
   "id": "02796bbc",
   "metadata": {},
   "outputs": [],
   "source": [
    "x_train = x_train.reshape((len(x_train), -1))\n",
    "x_test = x_test.reshape((len(x_test), -1))"
   ]
  },
  {
   "cell_type": "code",
   "execution_count": 33,
   "id": "db379c95",
   "metadata": {},
   "outputs": [],
   "source": [
    "x_train = x_train.T\n",
    "x_test = x_test.T"
   ]
  },
  {
   "cell_type": "code",
   "execution_count": 34,
   "id": "40b0dc12",
   "metadata": {},
   "outputs": [
    {
     "data": {
      "text/plain": [
       "(784, 60000)"
      ]
     },
     "execution_count": 34,
     "metadata": {},
     "output_type": "execute_result"
    }
   ],
   "source": [
    "x_train.shape"
   ]
  },
  {
   "cell_type": "code",
   "execution_count": 96,
   "id": "6a56f533",
   "metadata": {},
   "outputs": [
    {
     "data": {
      "text/plain": [
       "(784, 10000)"
      ]
     },
     "execution_count": 96,
     "metadata": {},
     "output_type": "execute_result"
    }
   ],
   "source": [
    "x_test.shape"
   ]
  },
  {
   "cell_type": "code",
   "execution_count": 10,
   "id": "bb671faf",
   "metadata": {},
   "outputs": [],
   "source": [
    "def init_params():\n",
    "    W1 = np.random.normal(size=(25, 784)) * np.sqrt(1./(784))\n",
    "    b1 = np.random.normal(size=(25, 1)) * np.sqrt(1./(784))\n",
    "    W2 = np.random.normal(size=(15, 25)) * np.sqrt(1./(25))\n",
    "    b2 = np.random.normal(size=(15, 1)) * np.sqrt(1./(25))\n",
    "    W3 = np.random.normal(size=(10, 15)) * np.sqrt(1./(15))\n",
    "    b3 = np.random.normal(size=(10, 1)) * np.sqrt(1./(15))\n",
    "    return W1, b1, W2, b2, W3, b3"
   ]
  },
  {
   "cell_type": "code",
   "execution_count": 11,
   "id": "9d3937f0",
   "metadata": {},
   "outputs": [],
   "source": [
    "def ReLU(Z):\n",
    "    return np.maximum(Z, 0)"
   ]
  },
  {
   "cell_type": "code",
   "execution_count": 12,
   "id": "d6fdf94a",
   "metadata": {},
   "outputs": [],
   "source": [
    "def softmax(Z):\n",
    "    return np.exp(Z) / sum(np.exp(Z))  "
   ]
  },
  {
   "cell_type": "code",
   "execution_count": 13,
   "id": "b331c886",
   "metadata": {},
   "outputs": [],
   "source": [
    "def forward_prop(W1, b1, W2, b2, W3, b3, X):\n",
    "    Z1 = W1.dot(X) + b1\n",
    "    A1 = ReLU(Z1)\n",
    "    Z2 = W2.dot(A1) + b2\n",
    "    A2 = ReLU(Z2)\n",
    "    Z3 = W3.dot(A2) + b3\n",
    "    A3 = softmax(Z3)\n",
    "    return Z1, A1, Z2, A2, Z3, A3"
   ]
  },
  {
   "cell_type": "code",
   "execution_count": 14,
   "id": "8e43f5b5",
   "metadata": {},
   "outputs": [],
   "source": [
    "def ReLU_deriv(Z):\n",
    "    return Z > 0"
   ]
  },
  {
   "cell_type": "code",
   "execution_count": 15,
   "id": "fa012cdd",
   "metadata": {},
   "outputs": [],
   "source": [
    "def one_hot(Y):\n",
    "    one_hot_Y = np.zeros((Y.size, Y.max() + 1))\n",
    "    one_hot_Y[np.arange(Y.size), Y] = 1\n",
    "    one_hot_Y = one_hot_Y.T\n",
    "    return one_hot_Y"
   ]
  },
  {
   "cell_type": "code",
   "execution_count": 167,
   "id": "71b89180",
   "metadata": {},
   "outputs": [],
   "source": [
    "def backward_prop(Z1, A1, Z2, A2, Z3, A3, W1, W2, W3, X, Y, lambd, m=500):\n",
    "    dZ3 = A3 - Y\n",
    "    dW3 = 1 / m * (dZ3.dot(A2.T) + lambd * W3)\n",
    "    db3 = 1 / m * np.sum(dZ3)\n",
    "    dZ2 = W3.T.dot(dZ3) * ReLU_deriv(Z2)\n",
    "    dW2 = 1 / m * (dZ2.dot(A1.T) + lambd * W2)\n",
    "    db2 = 1 / m * np.sum(dZ2)\n",
    "    dZ1 = W2.T.dot(dZ2) * ReLU_deriv(Z1)\n",
    "    dW1 = 1 / m * (dZ1.dot(X.T) + lambd * W1)\n",
    "    db1 = 1 / m * np.sum(dZ1)\n",
    "    return dW1, db1, dW2, db2, dW3, db3"
   ]
  },
  {
   "cell_type": "code",
   "execution_count": 18,
   "id": "0d1c26b4",
   "metadata": {},
   "outputs": [],
   "source": [
    "def update_params(W1, b1, W2, b2, W3, b3, dW1, db1, dW2, db2, dW3, db3, alpha):\n",
    "    W1 = W1 - alpha * dW1\n",
    "    b1 = b1 - alpha * db1    \n",
    "    W2 = W2 - alpha * dW2  \n",
    "    b2 = b2 - alpha * db2\n",
    "    W3 = W3 - alpha * dW3  \n",
    "    b3 = b3 - alpha * db3   \n",
    "    return W1, b1, W2, b2, W3, b3"
   ]
  },
  {
   "cell_type": "code",
   "execution_count": 19,
   "id": "1b04d6fb",
   "metadata": {},
   "outputs": [],
   "source": [
    "def get_predictions(A3):\n",
    "    return np.argmax(A3, 0)"
   ]
  },
  {
   "cell_type": "code",
   "execution_count": 20,
   "id": "46324f7d",
   "metadata": {},
   "outputs": [],
   "source": [
    "def get_accuracy(predictions, Y):\n",
    "    return np.sum(predictions == Y) / Y.size"
   ]
  },
  {
   "cell_type": "code",
   "execution_count": 159,
   "id": "06fb8240",
   "metadata": {},
   "outputs": [],
   "source": [
    "def get_loss(A3, Y, W1, W2, W3, lambd, m=500):\n",
    "    log_loss = -1/m * np.sum(Y * np.log(A3) + (1 - Y) * np.log(1 - A3))\n",
    "    reg_term = (lambd / (2 * m)) * (np.sum(np.square(W1)) + np.sum(np.square(W2)) + np.sum(np.square(W3)))\n",
    "    total_loss = log_loss + reg_term\n",
    "    return total_loss"
   ]
  },
  {
   "cell_type": "code",
   "execution_count": 177,
   "id": "3cc34e3f",
   "metadata": {},
   "outputs": [],
   "source": [
    "def gradient_descent(X, Y, alpha, lambd, iterations):\n",
    "    W1, b1, W2, b2, W3, b3 = init_params()\n",
    "    one_hot_Y = one_hot(Y)\n",
    "    prev_accuracy = 0\n",
    "    prev_loss = 1000\n",
    "    for i in range(iterations):\n",
    "        total_acc, total_loss = 0, 0\n",
    "        for j in range(120):\n",
    "            x_batch = X[:,j*500:(j+1)*500]\n",
    "            y_batch = one_hot_Y[:,j*500:(j+1)*500]\n",
    "            Z1, A1, Z2, A2, Z3, A3 = forward_prop(W1, b1, W2, b2, W3, b3, x_batch)\n",
    "            dW1, db1, dW2, db2, dW3, db3 = backward_prop(Z1, A1, Z2, A2, Z3, A3, W1, W2, W3, x_batch, y_batch, lambd)\n",
    "            W1, b1, W2, b2, W3, b3 = update_params(W1, b1, W2, b2, W3, b3, dW1, db1, dW2, db2, dW3, db3, alpha)\n",
    "            total_acc += get_accuracy(get_predictions(A3), Y[j*500:(j+1)*500])\n",
    "            total_loss += get_loss(A3, y_batch, W1, W2, W3, lambd)\n",
    "        if i % 10 == 0:\n",
    "            print(\"Iteration:\", i+10)\n",
    "            accuracy = total_acc / 120\n",
    "            loss = total_loss / 120\n",
    "            print(f'Accuracy : {accuracy*100:.2f}%')\n",
    "            print(f'Loss\\t : {loss:.4f}')\n",
    "            if abs(prev_accuracy - accuracy) < 0.001:\n",
    "                print(\"Early Stopping Evaluated.\")\n",
    "                break\n",
    "            prev_accuracy = accuracy\n",
    "            prev_loss = loss\n",
    "            print(\"-------------------------\")\n",
    "    return W1, b1, W2, b2, W3, b3"
   ]
  },
  {
   "cell_type": "markdown",
   "id": "98bddd3b",
   "metadata": {},
   "source": [
    "Learning rate = 0.1  \n",
    "Lambda = 0.01  \n",
    "Iterations = 1000"
   ]
  },
  {
   "cell_type": "code",
   "execution_count": 192,
   "id": "76632aa1",
   "metadata": {
    "scrolled": true
   },
   "outputs": [
    {
     "name": "stdout",
     "output_type": "stream",
     "text": [
      "Iteration: 10\n",
      "Accuracy : 66.22%\n",
      "Loss\t : 1.7652\n",
      "-------------------------\n",
      "Iteration: 20\n",
      "Accuracy : 93.85%\n",
      "Loss\t : 0.3607\n",
      "-------------------------\n",
      "Iteration: 30\n",
      "Accuracy : 95.73%\n",
      "Loss\t : 0.2601\n",
      "-------------------------\n",
      "Iteration: 40\n",
      "Accuracy : 96.50%\n",
      "Loss\t : 0.2136\n",
      "-------------------------\n",
      "Iteration: 50\n",
      "Accuracy : 96.99%\n",
      "Loss\t : 0.1842\n",
      "-------------------------\n",
      "Iteration: 60\n",
      "Accuracy : 97.39%\n",
      "Loss\t : 0.1630\n",
      "-------------------------\n",
      "Iteration: 70\n",
      "Accuracy : 97.67%\n",
      "Loss\t : 0.1465\n",
      "-------------------------\n",
      "Iteration: 80\n",
      "Accuracy : 97.92%\n",
      "Loss\t : 0.1333\n",
      "-------------------------\n",
      "Iteration: 90\n",
      "Accuracy : 98.12%\n",
      "Loss\t : 0.1222\n",
      "-------------------------\n",
      "Iteration: 100\n",
      "Accuracy : 98.26%\n",
      "Loss\t : 0.1126\n",
      "-------------------------\n",
      "Iteration: 110\n",
      "Accuracy : 98.42%\n",
      "Loss\t : 0.1040\n",
      "-------------------------\n",
      "Iteration: 120\n",
      "Accuracy : 98.56%\n",
      "Loss\t : 0.0963\n",
      "-------------------------\n",
      "Iteration: 130\n",
      "Accuracy : 98.68%\n",
      "Loss\t : 0.0892\n",
      "-------------------------\n",
      "Iteration: 140\n",
      "Accuracy : 98.80%\n",
      "Loss\t : 0.0829\n",
      "-------------------------\n",
      "Iteration: 150\n",
      "Accuracy : 98.89%\n",
      "Loss\t : 0.0770\n",
      "Early Stopping Evaluated.\n"
     ]
    }
   ],
   "source": [
    "W1, b1, W2, b2, W3, b3 = gradient_descent(x_train, y_train, 0.1, 0.01, 1000)"
   ]
  },
  {
   "cell_type": "code",
   "execution_count": 195,
   "id": "956e9772",
   "metadata": {},
   "outputs": [],
   "source": [
    "def predictions_on_test(W1, b1, W2, b2, W3, b3, lambd, x_test, y_test):\n",
    "    _, _, _, _, _, A3 = forward_prop(W1, b1, W2, b2, W3, b3, x_test)\n",
    "    predictions = get_predictions(A3)\n",
    "    accuracy = get_accuracy(predictions, y_test)\n",
    "    loss = get_loss(A3, one_hot(y_test), W1, W2, W3, lambd, m=10000)\n",
    "    print(f'Accuracy : {accuracy*100:.2f}%')\n",
    "    print(f'Loss\\t : {loss:.4f}')\n",
    "    return predictions"
   ]
  },
  {
   "cell_type": "code",
   "execution_count": 141,
   "id": "404db3bf",
   "metadata": {},
   "outputs": [],
   "source": [
    "def get_cm(predictions):\n",
    "    cm = tf.math.confusion_matrix(labels=y_test,predictions=predictions)\n",
    "    plt.figure(figsize = (10,7))\n",
    "    sn.heatmap(cm, annot=True, fmt='d')\n",
    "    plt.xlabel('Predicted')\n",
    "    plt.ylabel('Truth')"
   ]
  },
  {
   "cell_type": "code",
   "execution_count": 142,
   "id": "08039f72",
   "metadata": {},
   "outputs": [],
   "source": [
    "def show(count, predictions):\n",
    "    for i in range(count):\n",
    "        index = randrange(0, 9999)\n",
    "        print(\"Label\\t\\t: \", y_test[index])\n",
    "        print(\"Prediction\\t: \", predictions[index])\n",
    "        current_image = x_test[:, index]\n",
    "        current_image = current_image.reshape((28, 28)) * 255\n",
    "        plt.gray()\n",
    "        plt.imshow(current_image, interpolation='nearest')\n",
    "        plt.show()"
   ]
  },
  {
   "cell_type": "code",
   "execution_count": 196,
   "id": "7ab08724",
   "metadata": {
    "scrolled": false
   },
   "outputs": [
    {
     "name": "stdout",
     "output_type": "stream",
     "text": [
      "Accuracy : 96.39%\n",
      "Loss\t : 0.2550\n"
     ]
    }
   ],
   "source": [
    "predictions = predictions_on_test(W1, b1, W2, b2, W3, b3, 0.01, x_test, y_test)"
   ]
  },
  {
   "cell_type": "code",
   "execution_count": 197,
   "id": "15391d02",
   "metadata": {},
   "outputs": [
    {
     "data": {
      "image/png": "[encoded data removed]",
      "text/plain": [
       "<Figure size 1000x700 with 2 Axes>"
      ]
     },
     "metadata": {},
     "output_type": "display_data"
    }
   ],
   "source": [
    "get_cm(predictions)"
   ]
  },
  {
   "cell_type": "code",
   "execution_count": 199,
   "id": "80cf11b1",
   "metadata": {
    "scrolled": false
   },
   "outputs": [
    {
     "name": "stdout",
     "output_type": "stream",
     "text": [
      "Label\t\t:  8\n",
      "Prediction\t:  8\n"
     ]
    },
    {
     "data": {
      "image/png": "[encoded data removed]",
      "text/plain": [
       "<Figure size 640x480 with 1 Axes>"
      ]
     },
     "metadata": {},
     "output_type": "display_data"
    },
    {
     "name": "stdout",
     "output_type": "stream",
     "text": [
      "Label\t\t:  9\n",
      "Prediction\t:  9\n"
     ]
    },
    {
     "data": {
      "image/png": "[encoded data removed]",
      "text/plain": [
       "<Figure size 640x480 with 1 Axes>"
      ]
     },
     "metadata": {},
     "output_type": "display_data"
    },
    {
     "name": "stdout",
     "output_type": "stream",
     "text": [
      "Label\t\t:  1\n",
      "Prediction\t:  1\n"
     ]
    },
    {
     "data": {
      "image/png": "[encoded data removed]",
      "text/plain": [
       "<Figure size 640x480 with 1 Axes>"
      ]
     },
     "metadata": {},
     "output_type": "display_data"
    },
    {
     "name": "stdout",
     "output_type": "stream",
     "text": [
      "Label\t\t:  1\n",
      "Prediction\t:  1\n"
     ]
    },
    {
     "data": {
      "image/png": "[encoded data removed]",
      "text/plain": [
       "<Figure size 640x480 with 1 Axes>"
      ]
     },
     "metadata": {},
     "output_type": "display_data"
    },
    {
     "name": "stdout",
     "output_type": "stream",
     "text": [
      "Label\t\t:  3\n",
      "Prediction\t:  3\n"
     ]
    },
    {
     "data": {
      "image/png": "[encoded data removed]",
      "text/plain": [
       "<Figure size 640x480 with 1 Axes>"
      ]
     },
     "metadata": {},
     "output_type": "display_data"
    }
   ],
   "source": [
    "show(5, predictions)"
   ]
  },
  {
   "cell_type": "code",
   "execution_count": null,
   "id": "f6910ff9",
   "metadata": {},
   "outputs": [],
   "source": []
  }
 ],
 "metadata": {
  "kernelspec": {
   "display_name": "Python 3 (ipykernel)",
   "language": "python",
   "name": "python3"
  },
  "language_info": {
   "codemirror_mode": {
    "name": "ipython",
    "version": 3
   },
   "file_extension": ".py",
   "mimetype": "text/x-python",
   "name": "python",
   "nbconvert_exporter": "python",
   "pygments_lexer": "ipython3",
   "version": "3.11.5"
  }
 },
 "nbformat": 4,
 "nbformat_minor": 5
}
